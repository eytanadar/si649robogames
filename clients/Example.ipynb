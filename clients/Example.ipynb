{
 "cells": [
  {
   "cell_type": "code",
   "execution_count": null,
   "metadata": {},
   "outputs": [],
   "source": [
    "import Robogame as rg\n",
    "import networkx as nx\n",
    "import altair as alt\n",
    "import time, json\n",
    "import pandas as pd\n",
    "import numpy as np\n",
    "import matplotlib as plt"
   ]
  },
  {
   "cell_type": "markdown",
   "metadata": {},
   "source": [
    "To start a game server go into the server directory. Make sure you have flask and networkx installed (```conda install networkx flask flask-cors requests scipy``` should do it).\n",
    "\n",
    "To start a server do:\n",
    "\n",
    "```python api.py [-d directoryforgame] [-s] [-t1s T1Secret] [-t2s T2Secret] gameid```\n",
    "\n",
    "gameid is the the prefix of all the game files (the examples we gave you are examplematch1, examplematch2, examplematch3.\n",
    "\n",
    "```\n",
    "-d/--directory is an optional directory. For example, we put the examplematch1 files in the example1 directory\n",
    "-s/--simulated tells us whether to simulate team 2\n",
    "-t1s/--team1secret is Team 1's secret. If you don't specify this, the server will give you one\n",
    "-t2s/--team1secret is Team 2's secret. This is ignored if you use -s. If you don't specify this, the server will give you one\n",
    "-m/--matchsave is a log file to save the game in, a random log name will be used if you don't specify this\n",
    "```\n",
    "\n",
    "Here's a simple game:\n",
    "\n",
    "```python api.py -d ./example1 -s -t1s bob examplematch1```\n",
    "\n",
    "We're using the examplematch1 files in the example1 directory, simulating player 2 and team 1's secret is 'bob' (that's us)"
   ]
  },
  {
   "cell_type": "code",
   "execution_count": null,
   "metadata": {},
   "outputs": [],
   "source": [
    "# create a game connection using bob as the \"secret\" key for your team (this is what you're given by the server)\n",
    "game = rg.Robogame(\"bob\")\n",
    "\n",
    "# the default is to the localhost on port 5000, if you want something else you can do:\n",
    "# game = rg.Robogame(\"bob\",server=\"12.12.31.1\",port=2324)"
   ]
  },
  {
   "cell_type": "code",
   "execution_count": null,
   "metadata": {},
   "outputs": [],
   "source": [
    "# tell the server we're ready to go\n",
    "game.setReady()"
   ]
  },
  {
   "cell_type": "code",
   "execution_count": null,
   "metadata": {},
   "outputs": [],
   "source": [
    "# get the people who are play\n",
    "game.getTeams()"
   ]
  },
  {
   "cell_type": "code",
   "execution_count": null,
   "metadata": {},
   "outputs": [],
   "source": [
    "game.getGameTime()"
   ]
  },
  {
   "cell_type": "code",
   "execution_count": null,
   "metadata": {},
   "outputs": [],
   "source": [
    "# get the current game time\n",
    "# there is a buffer before the game actually starts once both teams are ready\n",
    "\n",
    "# wait for both players to be ready\n",
    "while(True):\n",
    "    gametime = game.getGameTime()\n",
    "    \n",
    "    if ('Error' in gametime):\n",
    "        if (gametime['Error'] == 'Game not started'):\n",
    "            print(\"Game not started yet, waiting\")\n",
    "            time.sleep(1)\n",
    "            continue\n",
    "        else:\n",
    "            print(\"Error\"+str(gametime))\n",
    "            break\n",
    "    \n",
    "    timetogo = gametime['gamestarttime_secs'] - gametime['servertime_secs']\n",
    "\n",
    "    if (timetogo <= 0):\n",
    "        print(\"Let's go!\")\n",
    "        break\n",
    "        \n",
    "    print(\"waiting to launch... game will start in \" + str(int(timetogo)))\n",
    "    time.sleep(1) # sleep 1 second at a time, wait for the game to start\n",
    "    "
   ]
  },
  {
   "cell_type": "code",
   "execution_count": null,
   "metadata": {},
   "outputs": [],
   "source": [
    "# check the current game time\n",
    "game.getGameTime()"
   ]
  },
  {
   "cell_type": "code",
   "execution_count": null,
   "metadata": {},
   "outputs": [
    {
     "name": "stderr",
     "output_type": "stream",
     "text": [
      "/Users/qinx/Documents/Umich/F23/548/robo/si649robogames/clients/Robogame.py:72: FutureWarning: Passing literal json to 'read_json' is deprecated and will be removed in a future version. To read from a literal string, wrap it in a 'StringIO' object.\n",
      "  return(pd.read_json(json.dumps(r.json()),orient='records'))\n"
     ]
    }
   ],
   "source": [
    "# get the robot data (note that the bets column are the guesses your team has associated with the robots at the moment)\n",
    "robots = game.getRobotInfo()\n",
    "\n",
    "# if you want this in json format, do:\n",
    "# robots = game.getRobotInfo(js=True)"
   ]
  },
  {
   "cell_type": "code",
   "execution_count": null,
   "metadata": {},
   "outputs": [],
   "source": [
    "# see what's inside\n",
    "robots.sample(10)"
   ]
  },
  {
   "cell_type": "code",
   "execution_count": null,
   "metadata": {},
   "outputs": [],
   "source": [
    "# let's plot the distribution of expirations\n",
    "alt.Chart(robots).mark_bar().encode(\n",
    "    alt.X(\"expires:Q\", bin=True),\n",
    "    y='count()',\n",
    ")"
   ]
  },
  {
   "cell_type": "code",
   "execution_count": null,
   "metadata": {},
   "outputs": [],
   "source": [
    "# grab the networks\n",
    "network = game.getNetwork()"
   ]
  },
  {
   "cell_type": "code",
   "execution_count": null,
   "metadata": {},
   "outputs": [],
   "source": [
    "# use the networkx package to parse it and plot it\n",
    "socialnet = nx.node_link_graph(network)\n",
    "robotDegrees = {node:val for (node, val) in socialnet.degree()}\n",
    "nx.draw_kamada_kawai(socialnet)"
   ]
  },
  {
   "cell_type": "code",
   "execution_count": null,
   "metadata": {},
   "outputs": [],
   "source": [
    "network.keys()"
   ]
  },
  {
   "cell_type": "code",
   "execution_count": null,
   "metadata": {},
   "outputs": [],
   "source": [
    "# get the genealogy tree\n",
    "tree = game.getTree()"
   ]
  },
  {
   "cell_type": "code",
   "execution_count": null,
   "metadata": {},
   "outputs": [],
   "source": [
    "# use networkx to parse and plot it\n",
    "genealogy = nx.tree_graph(tree)\n",
    "nx.draw_kamada_kawai(genealogy)"
   ]
  },
  {
   "cell_type": "code",
   "execution_count": null,
   "metadata": {},
   "outputs": [],
   "source": [
    "# we can get hints every 6 seconds or so, let's grab a few rounds of hints\n",
    "\n",
    "# note that you can now do getHints(hintstart=4)  where the number indicates\n",
    "# from when to give you the hints (so this will give you everything from time\n",
    "# unit 4 until now)\n",
    "for i in np.arange(0,3):\n",
    "    # this will give us just the new hints, but the object will store everything we've seen\n",
    "    hints = game.getHints()\n",
    "    if ('parts' in hints):\n",
    "        print('we got '+str(len(hints['parts']))+' part hints')\n",
    "    time.sleep(6)\n",
    "\n",
    "\n",
    "# get all the hints we've collected\n",
    "predHints = game.getAllPredictionHints()\n",
    "partHints = game.getAllPartHints()"
   ]
  },
  {
   "cell_type": "code",
   "execution_count": null,
   "metadata": {},
   "outputs": [],
   "source": [
    "# make the time hints into a dataframe\n",
    "predhints_df = pd.read_json(json.dumps(predHints),orient='records')"
   ]
  },
  {
   "cell_type": "code",
   "execution_count": null,
   "metadata": {},
   "outputs": [],
   "source": [
    "# lets plot the data we got from all the robots\n",
    "alt.Chart(predhints_df).mark_point().encode(\n",
    "    x='time:Q',\n",
    "    y='mean(value):Q'\n",
    ")"
   ]
  },
  {
   "cell_type": "code",
   "execution_count": null,
   "metadata": {},
   "outputs": [],
   "source": [
    "# we can tell the hacker we're interested in robots 99, 23 and 1\n",
    "game.setRobotInterest([99,23,5])\n",
    "\n",
    "# to reset to being interested in all, use\n",
    "# game.setRobotInterest([])"
   ]
  },
  {
   "cell_type": "code",
   "execution_count": null,
   "metadata": {},
   "outputs": [],
   "source": [
    "# we can also tell the hacker we're interesed in the 'Astrogation Buffer Length','InfoCore Size'\n",
    "game.setPartInterest(['Astrogation Buffer Length','InfoCore Size'])\n",
    "\n",
    "# to reset to being interested in all, use\n",
    "# game.setPartInterest([])"
   ]
  },
  {
   "cell_type": "code",
   "execution_count": null,
   "metadata": {},
   "outputs": [],
   "source": [
    "# if we get more hints now, they'll be biased to the robots and parts we care about\n",
    "\n",
    "for i in np.arange(0,3):\n",
    "    # this will give us just the new hints, but the object will store everything we've seen\n",
    "    hints = game.getHints()\n",
    "    if ('parts' in hints):\n",
    "        print('we got '+str(len(hints['parts']))+' part hints')\n",
    "    time.sleep(6)"
   ]
  },
  {
   "cell_type": "code",
   "execution_count": null,
   "metadata": {},
   "outputs": [],
   "source": [
    "# to set our bets, feed in a dictionary with the values\n",
    "# for example, let's set robot id 0 to 99 and robot 5 to 72\n",
    "game.setBets({0:99,5:72})"
   ]
  },
  {
   "cell_type": "code",
   "execution_count": null,
   "metadata": {},
   "outputs": [],
   "source": [
    "# let's see how we're doing, grab the data\n",
    "robots = game.getRobotInfo()"
   ]
  },
  {
   "cell_type": "code",
   "execution_count": null,
   "metadata": {},
   "outputs": [],
   "source": [
    "# let's see how team 2 is doing (might be 0 if no deadlines expired)\n",
    "robots[robots.winner == 2]['Productivity'].sum()"
   ]
  },
  {
   "cell_type": "code",
   "execution_count": null,
   "metadata": {},
   "outputs": [],
   "source": [
    "# let's see how team 1 is doing (might be 0 if no deadlines expired or we didn't put in any bets)\n",
    "robots[robots.winner == 1]['Productivity'].sum()"
   ]
  },
  {
   "cell_type": "code",
   "execution_count": null,
   "metadata": {},
   "outputs": [],
   "source": [
    "# Here's a hint on how you can use the data you get to predict the value.\n",
    "# Let's say we learn two points about a robot's random number generator\n",
    "# At time 17, they'll say 40 and at time 50, they'll say 27\n",
    "xs = [17,50]\n",
    "ys = [40,27]"
   ]
  },
  {
   "cell_type": "code",
   "execution_count": null,
   "metadata": {},
   "outputs": [],
   "source": [
    "# we can use this to generate simple regression. One way to do it is to just fit a one dimensional polynomial\n",
    "fit = np.polyfit(xs,ys,1)\n",
    "\n",
    "# in reality, 1 dimension is probably not ideal"
   ]
  },
  {
   "cell_type": "code",
   "execution_count": null,
   "metadata": {},
   "outputs": [],
   "source": [
    "# next, we'll want to figure out all the y values over the range of times 0 to 100\n",
    "fitx = np.arange(0,100)\n",
    "fity = []"
   ]
  },
  {
   "cell_type": "code",
   "execution_count": null,
   "metadata": {},
   "outputs": [],
   "source": [
    "# create the fit function using the fit we calculated above\n",
    "fitfunc = np.poly1d(fit)\n",
    "for x in fitx:\n",
    "    y = fitfunc(x)\n",
    "    if (y > 100): # we know y can't be > 100\n",
    "        y = 100\n",
    "    if (y < 0): # we know y can't be < 0\n",
    "        y = 0\n",
    "    fity.append(y)"
   ]
  },
  {
   "cell_type": "code",
   "execution_count": null,
   "metadata": {},
   "outputs": [],
   "source": [
    "# to visualize this, I'm going to build a dataset the has both the original numbers \n",
    "# our hacker gave us (17,50 and 40,27) and the new things we calculated:\n",
    "vals = []\n",
    "for i in np.arange(0,len(xs)):\n",
    "    vals.append({'t':'hint','x':int(xs[i]),'y':int(ys[i])})\n",
    "   \n",
    "for i in np.arange(0,len(fitx)):\n",
    "    vals.append({'t':'fit','x':int(fitx[i]),'y':int(fity[i])})\n",
    "\n",
    "# so now we have a dataset with both the hint and fit data\n",
    "# you can look at it here\n",
    "# vals"
   ]
  },
  {
   "cell_type": "code",
   "execution_count": null,
   "metadata": {},
   "outputs": [],
   "source": [
    "# finally, let's plot the data using Altair\n",
    "\n",
    "# first make a chart for the hints\n",
    "hintlayer = alt.Chart(alt.Data(values=vals)).mark_circle(filled=True,size=90,color='red').encode(\n",
    "    x='x:Q',\n",
    "    y='y:Q',\n",
    "    color='t:N'\n",
    ").transform_filter(\n",
    "    alt.datum.t == 'hint'\n",
    ")\n",
    "\n",
    "# overlay that with the predictions\n",
    "fitlayer = alt.Chart(alt.Data(values=vals)).mark_line().encode(\n",
    "    x='x:Q',\n",
    "    y='y:Q',\n",
    "    color='t:N'\n",
    ").transform_filter(\n",
    "    alt.datum.t == 'fit'\n",
    ")\n",
    "\n",
    "# and let's assume an expiration of 70 for this robot and draw a line on top\n",
    "\n",
    "annotationlayer = alt.Chart(pd.DataFrame({'x': [70]})).mark_rule().encode(x='x:Q')\n",
    "\n",
    "# layer the charts\n",
    "hintlayer + fitlayer + annotationlayer\n"
   ]
  },
  {
   "cell_type": "markdown",
   "metadata": {},
   "source": [
    "## A few other random \"recipes\""
   ]
  },
  {
   "cell_type": "code",
   "execution_count": null,
   "metadata": {},
   "outputs": [],
   "source": [
    "# set all the bets to 80\n",
    "bets = {}\n",
    "for i in np.arange(0,100):\n",
    "    bets[int(i)] = int(80)\n",
    "game.setBets(bets)"
   ]
  },
  {
   "cell_type": "code",
   "execution_count": null,
   "metadata": {},
   "outputs": [],
   "source": [
    "# get all the game parts since the start of the game\n",
    "game.getHints(hintstart=0)['parts']"
   ]
  },
  {
   "cell_type": "code",
   "execution_count": null,
   "metadata": {},
   "outputs": [],
   "source": [
    "# debug information while game is in simulation\n",
    "game.getDebug()"
   ]
  },
  {
   "cell_type": "code",
   "execution_count": null,
   "metadata": {},
   "outputs": [],
   "source": []
  },
  {
   "cell_type": "code",
   "execution_count": null,
   "metadata": {},
   "outputs": [],
   "source": []
  }
 ],
 "metadata": {
  "kernelspec": {
   "display_name": "Python 3 (ipykernel)",
   "language": "python",
   "name": "python3"
  },
  "language_info": {
   "codemirror_mode": {
    "name": "ipython",
    "version": 3
   },
   "file_extension": ".py",
   "mimetype": "text/x-python",
   "name": "python",
   "nbconvert_exporter": "python",
   "pygments_lexer": "ipython3",
   "version": "3.11.5"
  }
 },
 "nbformat": 4,
 "nbformat_minor": 4
}
